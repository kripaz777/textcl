{
 "cells": [
  {
   "cell_type": "code",
   "execution_count": 1,
   "metadata": {
    "id": "4LHH7fQUJgzp"
   },
   "outputs": [
    {
     "name": "stderr",
     "output_type": "stream",
     "text": [
      "Using TensorFlow backend.\n"
     ]
    }
   ],
   "source": [
    "import pandas as pd\n",
    "import numpy as np\n",
    "import pickle\n",
    "from keras.preprocessing.text import Tokenizer\n",
    "from keras.models import Sequential\n",
    "from keras.layers import Activation, Dense, Dropout\n",
    "from sklearn.preprocessing import LabelBinarizer\n",
    "import sklearn.datasets as skds\n",
    "from pathlib import Path\n",
    "#from keras.layers import LSTM"
   ]
  },
  {
   "cell_type": "code",
   "execution_count": null,
   "metadata": {
    "id": "X38fdoJ-73TD"
   },
   "outputs": [],
   "source": [
    "# lets take 80% data as training and remaining 20% for test.\n",
    "#train_size = int(len(data) * .8)\n",
    "train_data = pd.read_csv('/content/drive/MyDrive/news_dataset/train.csv')\n",
    "\n",
    " \n",
    "train_posts = train_data['Description']\n",
    "train_tags = train_data['Class Index']\n",
    "# train_files_names = data['filename'][:train_size]\n",
    " \n",
    "\n",
    "# test_files_names = data['filename'][train_size:]\n",
    "test_data = pd.read_csv('/content/drive/MyDrive/news_dataset/test.csv')\n",
    "\n",
    " \n",
    "test_posts = train_data['Description']\n",
    "test_tags = train_data['Class Index']"
   ]
  },
  {
   "cell_type": "code",
   "execution_count": null,
   "metadata": {
    "id": "uqjF9WRsJg0V"
   },
   "outputs": [],
   "source": [
    "# # For reproducibility\n",
    "#  np.random.seed(1237)\n",
    " \n",
    "# # Source file directory\n",
    "# path_train = \"20news-19997/20_newsgroups\"\n",
    " \n",
    "# files_train = skds.load_files(path_train,load_content=False)\n",
    " \n",
    "# label_index = files_train.target\n",
    "# label_names = files_train.target_names\n",
    "# labelled_files = files_train.filenames\n",
    " \n",
    "# data_tags = [\"filename\",\"category\",\"news\"]\n",
    "# data_list = []\n",
    " \n",
    "# # Read and add data from file to a list\n",
    "# i=0\n",
    "# for f in labelled_files:\n",
    "#     data_list.append((f,label_names[label_index[i]],Path(f).read_text()))\n",
    "#     i += 1\n",
    " \n",
    "# # We have training data available as dictionary filename, category, data\n",
    "# data = pd.DataFrame.from_records(data_list, columns=data_tags)"
   ]
  },
  {
   "cell_type": "code",
   "execution_count": null,
   "metadata": {
    "id": "xeUmusdnKAWH"
   },
   "outputs": [],
   "source": [
    "import pandas as pd\n",
    "#data = pd.read_csv('/content/drive/MyDrive/Classroom/AI 9 30 AI/bbc.csv')\n",
    "#data"
   ]
  },
  {
   "cell_type": "code",
   "execution_count": 1,
   "metadata": {
    "colab": {
     "base_uri": "https://localhost:8080/"
    },
    "executionInfo": {
     "elapsed": 48806,
     "status": "ok",
     "timestamp": 1630343443658,
     "user": {
      "displayName": "Aayush Adhikari",
      "photoUrl": "",
      "userId": "12783126936209039067"
     },
     "user_tz": -345
    },
    "id": "8q7QY9TzJuUp",
    "outputId": "99e479c8-2533-4305-f56e-85a1bf7f3967"
   },
   "outputs": [
    {
     "name": "stdout",
     "output_type": "stream",
     "text": [
      "Mounted at /content/drive\n"
     ]
    }
   ],
   "source": [
    "from google.colab import drive\n",
    "drive.mount('/content/drive')"
   ]
  },
  {
   "cell_type": "code",
   "execution_count": null,
   "metadata": {
    "id": "fZY8J5Jiv9CP"
   },
   "outputs": [],
   "source": [
    "# lets take 80% data as training and remaining 20% for test.\n",
    "#train_size = int(len(data) * .8)\n",
    "train_data = pd.read_csv('/content/drive/MyDrive/news_dataset/train.csv')\n",
    "\n",
    " \n",
    "train_posts = train_data['Description']\n",
    "train_tags = train_data['Class Index']\n",
    "# train_files_names = data['filename'][:train_size]\n",
    " \n",
    "\n",
    "# test_files_names = data['filename'][train_size:]"
   ]
  },
  {
   "cell_type": "code",
   "execution_count": null,
   "metadata": {
    "colab": {
     "base_uri": "https://localhost:8080/",
     "height": 246
    },
    "executionInfo": {
     "elapsed": 2306,
     "status": "error",
     "timestamp": 1606465109112,
     "user": {
      "displayName": "Aayush Adhikari",
      "photoUrl": "",
      "userId": "12783126936209039067"
     },
     "user_tz": -345
    },
    "id": "1rQY6mx_012-",
    "outputId": "ec9ab148-76f4-47ae-f166-64b60954118a"
   },
   "outputs": [
    {
     "ename": "NameError",
     "evalue": "ignored",
     "output_type": "error",
     "traceback": [
      "\u001b[0;31m---------------------------------------------------------------------------\u001b[0m",
      "\u001b[0;31mNameError\u001b[0m                                 Traceback (most recent call last)",
      "\u001b[0;32m<ipython-input-1-0ece877ecab0>\u001b[0m in \u001b[0;36m<module>\u001b[0;34m()\u001b[0m\n\u001b[0;32m----> 1\u001b[0;31m \u001b[0mtest_data\u001b[0m \u001b[0;34m=\u001b[0m \u001b[0mpd\u001b[0m\u001b[0;34m.\u001b[0m\u001b[0mread_csv\u001b[0m\u001b[0;34m(\u001b[0m\u001b[0;34m'/content/drive/MyDrive/news_dataset/test.csv'\u001b[0m\u001b[0;34m)\u001b[0m\u001b[0;34m\u001b[0m\u001b[0;34m\u001b[0m\u001b[0m\n\u001b[0m\u001b[1;32m      2\u001b[0m \u001b[0;34m\u001b[0m\u001b[0m\n\u001b[1;32m      3\u001b[0m \u001b[0;34m\u001b[0m\u001b[0m\n\u001b[1;32m      4\u001b[0m \u001b[0mtest_posts\u001b[0m \u001b[0;34m=\u001b[0m \u001b[0mtrain_data\u001b[0m\u001b[0;34m[\u001b[0m\u001b[0;34m'Description'\u001b[0m\u001b[0;34m]\u001b[0m\u001b[0;34m\u001b[0m\u001b[0;34m\u001b[0m\u001b[0m\n\u001b[1;32m      5\u001b[0m \u001b[0mtest_tags\u001b[0m \u001b[0;34m=\u001b[0m \u001b[0mtrain_data\u001b[0m\u001b[0;34m[\u001b[0m\u001b[0;34m'Class Index'\u001b[0m\u001b[0;34m]\u001b[0m\u001b[0;34m\u001b[0m\u001b[0;34m\u001b[0m\u001b[0m\n",
      "\u001b[0;31mNameError\u001b[0m: name 'pd' is not defined"
     ]
    }
   ],
   "source": [
    "test_data = pd.read_csv('/content/drive/MyDrive/news_dataset/test.csv')\n",
    "\n",
    " \n",
    "test_posts = train_data['Description']\n",
    "test_tags = train_data['Class Index']"
   ]
  },
  {
   "cell_type": "code",
   "execution_count": null,
   "metadata": {
    "id": "NuqEiHxIJg1G"
   },
   "outputs": [],
   "source": [
    "# # lets take 80% data as training and remaining 20% for test.\n",
    "# train_size = int(len(data) * .8)\n",
    " \n",
    "# train_posts = data['text'][:train_size]\n",
    "# train_tags = data['category'][:train_size]\n",
    "# # train_files_names = data['filename'][:train_size]\n",
    " \n",
    "# test_posts = data['text'][train_size:]\n",
    "# test_tags = data['category'][train_size:]\n",
    "# # test_files_names = data['filename'][train_size:]"
   ]
  },
  {
   "cell_type": "code",
   "execution_count": null,
   "metadata": {
    "id": "NzP2-0ysJg1k"
   },
   "outputs": [],
   "source": [
    "# 4 news groups\n",
    "from sklearn.preprocessing import LabelBinarizer\n",
    "num_labels = 4\n",
    "vocab_size = 15000\n",
    "batch_size = 100\n",
    " \n",
    "# define Tokenizer with Vocab Size\n",
    "tokenizer = Tokenizer(num_words=vocab_size)\n",
    "tokenizer.fit_on_texts(train_posts)\n",
    " \n",
    "x_train = tokenizer.texts_to_matrix(train_posts, mode='tfidf')\n",
    "x_test = tokenizer.texts_to_matrix(test_posts, mode='tfidf')\n",
    " \n",
    "encoder = LabelBinarizer()\n",
    "encoder.fit(train_tags)\n",
    "y_train = encoder.transform(train_tags)\n",
    "y_test = encoder.transform(test_tags)"
   ]
  },
  {
   "cell_type": "code",
   "execution_count": null,
   "metadata": {
    "id": "ZMqOJTr0Jg18"
   },
   "outputs": [],
   "source": []
  },
  {
   "cell_type": "code",
   "execution_count": null,
   "metadata": {
    "colab": {
     "base_uri": "https://localhost:8080/"
    },
    "executionInfo": {
     "elapsed": 5103,
     "status": "ok",
     "timestamp": 1606146662764,
     "user": {
      "displayName": "John Parker",
      "photoUrl": "https://lh3.googleusercontent.com/a-/AOh14GgsjfMjH37KExobD0yKVEUYp5zLmgGCorKmcp753Q=s64",
      "userId": "16779664998312972023"
     },
     "user_tz": -345
    },
    "id": "tbjp0Pt_Jg2a",
    "outputId": "67a9a251-fc4d-40cf-f101-50e647970c4c"
   },
   "outputs": [
    {
     "name": "stdout",
     "output_type": "stream",
     "text": [
      "Model: \"sequential_4\"\n",
      "_________________________________________________________________\n",
      "Layer (type)                 Output Shape              Param #   \n",
      "=================================================================\n",
      "dense_10 (Dense)             (None, 512)               7680512   \n",
      "_________________________________________________________________\n",
      "activation_8 (Activation)    (None, 512)               0         \n",
      "_________________________________________________________________\n",
      "dropout_6 (Dropout)          (None, 512)               0         \n",
      "_________________________________________________________________\n",
      "dense_11 (Dense)             (None, 512)               262656    \n",
      "_________________________________________________________________\n",
      "activation_9 (Activation)    (None, 512)               0         \n",
      "_________________________________________________________________\n",
      "dropout_7 (Dropout)          (None, 512)               0         \n",
      "_________________________________________________________________\n",
      "dense_12 (Dense)             (None, 5)                 2565      \n",
      "_________________________________________________________________\n",
      "activation_10 (Activation)   (None, 5)                 0         \n",
      "=================================================================\n",
      "Total params: 7,945,733\n",
      "Trainable params: 7,945,733\n",
      "Non-trainable params: 0\n",
      "_________________________________________________________________\n",
      "Epoch 1/5\n",
      "17/17 [==============================] - 0s 23ms/step - loss: 0.4950 - accuracy: 0.8184 - val_loss: 0.0828 - val_accuracy: 0.9663\n",
      "Epoch 2/5\n",
      "17/17 [==============================] - 0s 14ms/step - loss: 0.0061 - accuracy: 0.9981 - val_loss: 0.0797 - val_accuracy: 0.9775\n",
      "Epoch 3/5\n",
      "17/17 [==============================] - 0s 15ms/step - loss: 2.7065e-04 - accuracy: 1.0000 - val_loss: 0.0626 - val_accuracy: 0.9719\n",
      "Epoch 4/5\n",
      "17/17 [==============================] - 0s 14ms/step - loss: 1.0136e-04 - accuracy: 1.0000 - val_loss: 0.0629 - val_accuracy: 0.9775\n",
      "Epoch 5/5\n",
      "17/17 [==============================] - 0s 14ms/step - loss: 7.0998e-04 - accuracy: 0.9994 - val_loss: 0.0983 - val_accuracy: 0.9719\n"
     ]
    }
   ],
   "source": [
    "model = Sequential()\n",
    "model.add(Dense(512, input_shape=(vocab_size,)))\n",
    "model.add(Activation('relu'))\n",
    "# model.add(LSTM(512))\n",
    "model.add(Dropout(0.3))\n",
    "\n",
    "\n",
    "\n",
    "model.add(Dense(512))\n",
    "model.add(Activation('relu'))\n",
    "model.add(Dropout(0.3))\n",
    "\n",
    "model.add(Dense(num_labels))\n",
    "model.add(Activation('softmax'))\n",
    "\n",
    "model.summary()\n",
    " \n",
    "model.compile(loss='categorical_crossentropy',\n",
    "              optimizer='adam',\n",
    "              metrics=['accuracy'])\n",
    " \n",
    "history = model.fit(x_train, y_train,\n",
    "                    batch_size=batch_size,\n",
    "                    epochs=5,\n",
    "                    verbose=1,\n",
    "                    validation_split=0.1)"
   ]
  },
  {
   "cell_type": "code",
   "execution_count": null,
   "metadata": {
    "colab": {
     "base_uri": "https://localhost:8080/"
    },
    "executionInfo": {
     "elapsed": 7410,
     "status": "ok",
     "timestamp": 1606141926047,
     "user": {
      "displayName": "John Parker",
      "photoUrl": "https://lh3.googleusercontent.com/a-/AOh14GgsjfMjH37KExobD0yKVEUYp5zLmgGCorKmcp753Q=s64",
      "userId": "16779664998312972023"
     },
     "user_tz": -345
    },
    "id": "_kheRki83zXE",
    "outputId": "a14c42a4-82aa-49d8-d567-4ab6862e7c0e"
   },
   "outputs": [],
   "source": []
  },
  {
   "cell_type": "code",
   "execution_count": null,
   "metadata": {
    "colab": {
     "base_uri": "https://localhost:8080/"
    },
    "executionInfo": {
     "elapsed": 23743,
     "status": "ok",
     "timestamp": 1606145255096,
     "user": {
      "displayName": "John Parker",
      "photoUrl": "https://lh3.googleusercontent.com/a-/AOh14GgsjfMjH37KExobD0yKVEUYp5zLmgGCorKmcp753Q=s64",
      "userId": "16779664998312972023"
     },
     "user_tz": -345
    },
    "id": "xZP7PloPJg25",
    "outputId": "26cfe000-659e-4c1a-8cc3-8af028d99ef9"
   },
   "outputs": [
    {
     "name": "stdout",
     "output_type": "stream",
     "text": [
      "Epoch 1/100\n",
      "17/17 [==============================] - 0s 23ms/step - loss: 1.4748e-07 - accuracy: 1.0000 - val_loss: 0.2942 - val_accuracy: 0.9607\n",
      "Epoch 2/100\n",
      "17/17 [==============================] - 0s 13ms/step - loss: 2.7916e-07 - accuracy: 1.0000 - val_loss: 0.2940 - val_accuracy: 0.9607\n",
      "Epoch 3/100\n",
      "17/17 [==============================] - 0s 13ms/step - loss: 1.1206e-07 - accuracy: 1.0000 - val_loss: 0.2939 - val_accuracy: 0.9607\n",
      "Epoch 4/100\n",
      "17/17 [==============================] - 0s 13ms/step - loss: 1.9077e-07 - accuracy: 1.0000 - val_loss: 0.2939 - val_accuracy: 0.9607\n",
      "Epoch 5/100\n",
      "17/17 [==============================] - 0s 13ms/step - loss: 4.9934e-07 - accuracy: 1.0000 - val_loss: 0.2939 - val_accuracy: 0.9607\n",
      "Epoch 6/100\n",
      "17/17 [==============================] - 0s 13ms/step - loss: 1.4972e-07 - accuracy: 1.0000 - val_loss: 0.2940 - val_accuracy: 0.9607\n",
      "Epoch 7/100\n",
      "17/17 [==============================] - 0s 12ms/step - loss: 1.0760e-07 - accuracy: 1.0000 - val_loss: 0.2936 - val_accuracy: 0.9607\n",
      "Epoch 8/100\n",
      "17/17 [==============================] - 0s 12ms/step - loss: 4.1320e-07 - accuracy: 1.0000 - val_loss: 0.2937 - val_accuracy: 0.9607\n",
      "Epoch 9/100\n",
      "17/17 [==============================] - 0s 12ms/step - loss: 1.2464e-07 - accuracy: 1.0000 - val_loss: 0.2937 - val_accuracy: 0.9607\n",
      "Epoch 10/100\n",
      "17/17 [==============================] - 0s 12ms/step - loss: 5.0601e-08 - accuracy: 1.0000 - val_loss: 0.2937 - val_accuracy: 0.9607\n",
      "Epoch 11/100\n",
      "17/17 [==============================] - 0s 12ms/step - loss: 5.9679e-08 - accuracy: 1.0000 - val_loss: 0.2937 - val_accuracy: 0.9607\n",
      "Epoch 12/100\n",
      "17/17 [==============================] - 0s 12ms/step - loss: 1.0812e-07 - accuracy: 1.0000 - val_loss: 0.2936 - val_accuracy: 0.9607\n",
      "Epoch 13/100\n",
      "17/17 [==============================] - 0s 12ms/step - loss: 1.3223e-07 - accuracy: 1.0000 - val_loss: 0.2938 - val_accuracy: 0.9607\n",
      "Epoch 14/100\n",
      "17/17 [==============================] - 0s 12ms/step - loss: 1.2442e-07 - accuracy: 1.0000 - val_loss: 0.2938 - val_accuracy: 0.9607\n",
      "Epoch 15/100\n",
      "17/17 [==============================] - 0s 12ms/step - loss: 8.0588e-08 - accuracy: 1.0000 - val_loss: 0.2938 - val_accuracy: 0.9607\n",
      "Epoch 16/100\n",
      "17/17 [==============================] - 0s 12ms/step - loss: 1.7271e-07 - accuracy: 1.0000 - val_loss: 0.2929 - val_accuracy: 0.9607\n",
      "Epoch 17/100\n",
      "17/17 [==============================] - 0s 12ms/step - loss: 1.3691e-05 - accuracy: 1.0000 - val_loss: 0.2883 - val_accuracy: 0.9663\n",
      "Epoch 18/100\n",
      "17/17 [==============================] - 0s 12ms/step - loss: 5.5800e-06 - accuracy: 1.0000 - val_loss: 0.2863 - val_accuracy: 0.9663\n",
      "Epoch 19/100\n",
      "17/17 [==============================] - 0s 13ms/step - loss: 2.5300e-08 - accuracy: 1.0000 - val_loss: 0.2864 - val_accuracy: 0.9663\n",
      "Epoch 20/100\n",
      "17/17 [==============================] - 0s 12ms/step - loss: 4.8442e-08 - accuracy: 1.0000 - val_loss: 0.2865 - val_accuracy: 0.9663\n",
      "Epoch 21/100\n",
      "17/17 [==============================] - 0s 11ms/step - loss: 2.7699e-07 - accuracy: 1.0000 - val_loss: 0.2863 - val_accuracy: 0.9663\n",
      "Epoch 22/100\n",
      "17/17 [==============================] - 0s 12ms/step - loss: 1.2092e-07 - accuracy: 1.0000 - val_loss: 0.2854 - val_accuracy: 0.9663\n",
      "Epoch 23/100\n",
      "17/17 [==============================] - 0s 11ms/step - loss: 9.0632e-08 - accuracy: 1.0000 - val_loss: 0.2852 - val_accuracy: 0.9663\n",
      "Epoch 24/100\n",
      "17/17 [==============================] - 0s 12ms/step - loss: 4.3680e-08 - accuracy: 1.0000 - val_loss: 0.2852 - val_accuracy: 0.9663\n",
      "Epoch 25/100\n",
      "17/17 [==============================] - 0s 12ms/step - loss: 1.4362e-08 - accuracy: 1.0000 - val_loss: 0.2852 - val_accuracy: 0.9663\n",
      "Epoch 26/100\n",
      "17/17 [==============================] - 0s 11ms/step - loss: 2.9529e-07 - accuracy: 1.0000 - val_loss: 0.2853 - val_accuracy: 0.9663\n",
      "Epoch 27/100\n",
      "17/17 [==============================] - 0s 12ms/step - loss: 4.8815e-08 - accuracy: 1.0000 - val_loss: 0.2854 - val_accuracy: 0.9663\n",
      "Epoch 28/100\n",
      "17/17 [==============================] - 0s 12ms/step - loss: 1.1117e-07 - accuracy: 1.0000 - val_loss: 0.2854 - val_accuracy: 0.9663\n",
      "Epoch 29/100\n",
      "17/17 [==============================] - 0s 12ms/step - loss: 1.2850e-07 - accuracy: 1.0000 - val_loss: 0.2854 - val_accuracy: 0.9663\n",
      "Epoch 30/100\n",
      "17/17 [==============================] - 0s 12ms/step - loss: 8.6095e-08 - accuracy: 1.0000 - val_loss: 0.2854 - val_accuracy: 0.9663\n",
      "Epoch 31/100\n",
      "17/17 [==============================] - 0s 12ms/step - loss: 9.1528e-09 - accuracy: 1.0000 - val_loss: 0.2854 - val_accuracy: 0.9663\n",
      "Epoch 32/100\n",
      "17/17 [==============================] - 0s 12ms/step - loss: 1.3736e-07 - accuracy: 1.0000 - val_loss: 0.2853 - val_accuracy: 0.9663\n",
      "Epoch 33/100\n",
      "17/17 [==============================] - 0s 12ms/step - loss: 3.4716e-07 - accuracy: 1.0000 - val_loss: 0.2852 - val_accuracy: 0.9663\n",
      "Epoch 34/100\n",
      "17/17 [==============================] - 0s 12ms/step - loss: 1.2204e-07 - accuracy: 1.0000 - val_loss: 0.2852 - val_accuracy: 0.9663\n",
      "Epoch 35/100\n",
      "17/17 [==============================] - 0s 13ms/step - loss: 2.1133e-08 - accuracy: 1.0000 - val_loss: 0.2852 - val_accuracy: 0.9663\n",
      "Epoch 36/100\n",
      "17/17 [==============================] - 0s 12ms/step - loss: 4.8963e-08 - accuracy: 1.0000 - val_loss: 0.2852 - val_accuracy: 0.9663\n",
      "Epoch 37/100\n",
      "17/17 [==============================] - 0s 12ms/step - loss: 3.6313e-08 - accuracy: 1.0000 - val_loss: 0.2852 - val_accuracy: 0.9663\n",
      "Epoch 38/100\n",
      "17/17 [==============================] - 0s 12ms/step - loss: 5.6553e-08 - accuracy: 1.0000 - val_loss: 0.2852 - val_accuracy: 0.9663\n",
      "Epoch 39/100\n",
      "17/17 [==============================] - 0s 12ms/step - loss: 4.2266e-08 - accuracy: 1.0000 - val_loss: 0.2852 - val_accuracy: 0.9663\n",
      "Epoch 40/100\n",
      "17/17 [==============================] - 0s 11ms/step - loss: 7.5528e-08 - accuracy: 1.0000 - val_loss: 0.2853 - val_accuracy: 0.9663\n",
      "Epoch 41/100\n",
      "17/17 [==============================] - 0s 11ms/step - loss: 3.9215e-08 - accuracy: 1.0000 - val_loss: 0.2853 - val_accuracy: 0.9663\n",
      "Epoch 42/100\n",
      "17/17 [==============================] - 0s 12ms/step - loss: 6.0199e-08 - accuracy: 1.0000 - val_loss: 0.2852 - val_accuracy: 0.9663\n",
      "Epoch 43/100\n",
      "17/17 [==============================] - 0s 12ms/step - loss: 1.1384e-07 - accuracy: 1.0000 - val_loss: 0.2852 - val_accuracy: 0.9663\n",
      "Epoch 44/100\n",
      "17/17 [==============================] - 0s 12ms/step - loss: 8.9621e-07 - accuracy: 1.0000 - val_loss: 0.2847 - val_accuracy: 0.9663\n",
      "Epoch 45/100\n",
      "17/17 [==============================] - 0s 11ms/step - loss: 2.4333e-08 - accuracy: 1.0000 - val_loss: 0.2846 - val_accuracy: 0.9663\n",
      "Epoch 46/100\n",
      "17/17 [==============================] - 0s 12ms/step - loss: 3.6090e-08 - accuracy: 1.0000 - val_loss: 0.2844 - val_accuracy: 0.9663\n",
      "Epoch 47/100\n",
      "17/17 [==============================] - 0s 11ms/step - loss: 2.9765e-08 - accuracy: 1.0000 - val_loss: 0.2843 - val_accuracy: 0.9663\n",
      "Epoch 48/100\n",
      "17/17 [==============================] - 0s 12ms/step - loss: 8.4787e-07 - accuracy: 1.0000 - val_loss: 0.2841 - val_accuracy: 0.9663\n",
      "Epoch 49/100\n",
      "17/17 [==============================] - 0s 12ms/step - loss: 2.1654e-08 - accuracy: 1.0000 - val_loss: 0.2840 - val_accuracy: 0.9663\n",
      "Epoch 50/100\n",
      "17/17 [==============================] - 0s 12ms/step - loss: 6.7045e-08 - accuracy: 1.0000 - val_loss: 0.2841 - val_accuracy: 0.9663\n",
      "Epoch 51/100\n",
      "17/17 [==============================] - 0s 12ms/step - loss: 1.8306e-08 - accuracy: 1.0000 - val_loss: 0.2843 - val_accuracy: 0.9663\n",
      "Epoch 52/100\n",
      "17/17 [==============================] - 0s 12ms/step - loss: 3.4379e-08 - accuracy: 1.0000 - val_loss: 0.2844 - val_accuracy: 0.9663\n",
      "Epoch 53/100\n",
      "17/17 [==============================] - 0s 12ms/step - loss: 7.3295e-08 - accuracy: 1.0000 - val_loss: 0.2844 - val_accuracy: 0.9663\n",
      "Epoch 54/100\n",
      "17/17 [==============================] - 0s 11ms/step - loss: 1.7338e-08 - accuracy: 1.0000 - val_loss: 0.2844 - val_accuracy: 0.9663\n",
      "Epoch 55/100\n",
      "17/17 [==============================] - 0s 12ms/step - loss: 3.9662e-08 - accuracy: 1.0000 - val_loss: 0.2844 - val_accuracy: 0.9663\n",
      "Epoch 56/100\n",
      "17/17 [==============================] - 0s 12ms/step - loss: 1.5850e-08 - accuracy: 1.0000 - val_loss: 0.2845 - val_accuracy: 0.9663\n",
      "Epoch 57/100\n",
      "17/17 [==============================] - 0s 12ms/step - loss: 3.8545e-08 - accuracy: 1.0000 - val_loss: 0.2845 - val_accuracy: 0.9663\n",
      "Epoch 58/100\n",
      "17/17 [==============================] - 0s 11ms/step - loss: 5.1642e-08 - accuracy: 1.0000 - val_loss: 0.2846 - val_accuracy: 0.9663\n",
      "Epoch 59/100\n",
      "17/17 [==============================] - 0s 11ms/step - loss: 2.2473e-08 - accuracy: 1.0000 - val_loss: 0.2846 - val_accuracy: 0.9663\n",
      "Epoch 60/100\n",
      "17/17 [==============================] - 0s 12ms/step - loss: 2.5598e-08 - accuracy: 1.0000 - val_loss: 0.2846 - val_accuracy: 0.9663\n",
      "Epoch 61/100\n",
      "17/17 [==============================] - 0s 12ms/step - loss: 6.3325e-08 - accuracy: 1.0000 - val_loss: 0.2841 - val_accuracy: 0.9663\n",
      "Epoch 62/100\n",
      "17/17 [==============================] - 0s 12ms/step - loss: 4.1671e-08 - accuracy: 1.0000 - val_loss: 0.2840 - val_accuracy: 0.9663\n",
      "Epoch 63/100\n",
      "17/17 [==============================] - 0s 11ms/step - loss: 1.0514e-07 - accuracy: 1.0000 - val_loss: 0.2840 - val_accuracy: 0.9663\n",
      "Epoch 64/100\n",
      "17/17 [==============================] - 0s 12ms/step - loss: 8.1108e-08 - accuracy: 1.0000 - val_loss: 0.2839 - val_accuracy: 0.9663\n",
      "Epoch 65/100\n",
      "17/17 [==============================] - 0s 12ms/step - loss: 1.9347e-08 - accuracy: 1.0000 - val_loss: 0.2839 - val_accuracy: 0.9663\n",
      "Epoch 66/100\n",
      "17/17 [==============================] - 0s 12ms/step - loss: 3.5123e-08 - accuracy: 1.0000 - val_loss: 0.2839 - val_accuracy: 0.9663\n",
      "Epoch 67/100\n",
      "17/17 [==============================] - 0s 12ms/step - loss: 1.4436e-08 - accuracy: 1.0000 - val_loss: 0.2839 - val_accuracy: 0.9663\n",
      "Epoch 68/100\n",
      "17/17 [==============================] - 0s 12ms/step - loss: 5.3279e-08 - accuracy: 1.0000 - val_loss: 0.2840 - val_accuracy: 0.9663\n",
      "Epoch 69/100\n",
      "17/17 [==============================] - 0s 12ms/step - loss: 7.5528e-08 - accuracy: 1.0000 - val_loss: 0.2836 - val_accuracy: 0.9663\n",
      "Epoch 70/100\n",
      "17/17 [==============================] - 0s 11ms/step - loss: 3.5867e-08 - accuracy: 1.0000 - val_loss: 0.2834 - val_accuracy: 0.9663\n",
      "Epoch 71/100\n",
      "17/17 [==============================] - 0s 12ms/step - loss: 2.4333e-08 - accuracy: 1.0000 - val_loss: 0.2834 - val_accuracy: 0.9663\n",
      "Epoch 72/100\n",
      "17/17 [==============================] - 0s 12ms/step - loss: 2.8500e-08 - accuracy: 1.0000 - val_loss: 0.2834 - val_accuracy: 0.9663\n",
      "Epoch 73/100\n",
      "17/17 [==============================] - 0s 12ms/step - loss: 4.7326e-08 - accuracy: 1.0000 - val_loss: 0.2834 - val_accuracy: 0.9663\n",
      "Epoch 74/100\n",
      "17/17 [==============================] - 0s 12ms/step - loss: 5.0526e-08 - accuracy: 1.0000 - val_loss: 0.2834 - val_accuracy: 0.9663\n",
      "Epoch 75/100\n",
      "17/17 [==============================] - 0s 12ms/step - loss: 1.7561e-08 - accuracy: 1.0000 - val_loss: 0.2834 - val_accuracy: 0.9663\n",
      "Epoch 76/100\n",
      "17/17 [==============================] - 0s 12ms/step - loss: 8.1912e-07 - accuracy: 1.0000 - val_loss: 0.2848 - val_accuracy: 0.9663\n",
      "Epoch 77/100\n",
      "17/17 [==============================] - 0s 12ms/step - loss: 2.8649e-08 - accuracy: 1.0000 - val_loss: 0.2870 - val_accuracy: 0.9663\n",
      "Epoch 78/100\n",
      "17/17 [==============================] - 0s 12ms/step - loss: 2.1133e-08 - accuracy: 1.0000 - val_loss: 0.2874 - val_accuracy: 0.9663\n",
      "Epoch 79/100\n",
      "17/17 [==============================] - 0s 12ms/step - loss: 2.7533e-08 - accuracy: 1.0000 - val_loss: 0.2874 - val_accuracy: 0.9663\n",
      "Epoch 80/100\n",
      "17/17 [==============================] - 0s 12ms/step - loss: 3.8322e-08 - accuracy: 1.0000 - val_loss: 0.2874 - val_accuracy: 0.9663\n",
      "Epoch 81/100\n",
      "17/17 [==============================] - 0s 12ms/step - loss: 4.7251e-08 - accuracy: 1.0000 - val_loss: 0.2874 - val_accuracy: 0.9663\n",
      "Epoch 82/100\n",
      "17/17 [==============================] - 0s 12ms/step - loss: 1.7561e-08 - accuracy: 1.0000 - val_loss: 0.2875 - val_accuracy: 0.9663\n",
      "Epoch 83/100\n",
      "17/17 [==============================] - 0s 12ms/step - loss: 1.3245e-08 - accuracy: 1.0000 - val_loss: 0.2875 - val_accuracy: 0.9663\n",
      "Epoch 84/100\n",
      "17/17 [==============================] - 0s 12ms/step - loss: 1.3206e-05 - accuracy: 1.0000 - val_loss: 0.3194 - val_accuracy: 0.9607\n",
      "Epoch 85/100\n",
      "17/17 [==============================] - 0s 12ms/step - loss: 2.0761e-08 - accuracy: 1.0000 - val_loss: 0.3275 - val_accuracy: 0.9607\n",
      "Epoch 86/100\n",
      "17/17 [==============================] - 0s 12ms/step - loss: 7.0472e-07 - accuracy: 1.0000 - val_loss: 0.3287 - val_accuracy: 0.9607\n",
      "Epoch 87/100\n",
      "17/17 [==============================] - 0s 12ms/step - loss: 5.2461e-08 - accuracy: 1.0000 - val_loss: 0.3290 - val_accuracy: 0.9607\n",
      "Epoch 88/100\n",
      "17/17 [==============================] - 0s 12ms/step - loss: 7.7016e-08 - accuracy: 1.0000 - val_loss: 0.3290 - val_accuracy: 0.9607\n",
      "Epoch 89/100\n",
      "17/17 [==============================] - 0s 13ms/step - loss: 1.0923e-07 - accuracy: 1.0000 - val_loss: 0.3289 - val_accuracy: 0.9607\n",
      "Epoch 90/100\n",
      "17/17 [==============================] - 0s 12ms/step - loss: 3.8471e-08 - accuracy: 1.0000 - val_loss: 0.3289 - val_accuracy: 0.9607\n",
      "Epoch 91/100\n",
      "17/17 [==============================] - 0s 11ms/step - loss: 2.8947e-08 - accuracy: 1.0000 - val_loss: 0.3289 - val_accuracy: 0.9607\n",
      "Epoch 92/100\n",
      "17/17 [==============================] - 0s 12ms/step - loss: 8.7209e-08 - accuracy: 1.0000 - val_loss: 0.3289 - val_accuracy: 0.9607\n",
      "Epoch 93/100\n",
      "17/17 [==============================] - 0s 12ms/step - loss: 6.0273e-08 - accuracy: 1.0000 - val_loss: 0.3288 - val_accuracy: 0.9607\n",
      "Epoch 94/100\n",
      "17/17 [==============================] - 0s 12ms/step - loss: 4.8517e-08 - accuracy: 1.0000 - val_loss: 0.3290 - val_accuracy: 0.9607\n",
      "Epoch 95/100\n",
      "17/17 [==============================] - 0s 12ms/step - loss: 7.9172e-08 - accuracy: 1.0000 - val_loss: 0.3298 - val_accuracy: 0.9607\n",
      "Epoch 96/100\n",
      "17/17 [==============================] - 0s 11ms/step - loss: 1.3550e-06 - accuracy: 1.0000 - val_loss: 0.3301 - val_accuracy: 0.9607\n",
      "Epoch 97/100\n",
      "17/17 [==============================] - 0s 12ms/step - loss: 8.2224e-08 - accuracy: 1.0000 - val_loss: 0.3302 - val_accuracy: 0.9607\n",
      "Epoch 98/100\n",
      "17/17 [==============================] - 0s 13ms/step - loss: 6.3176e-08 - accuracy: 1.0000 - val_loss: 0.3303 - val_accuracy: 0.9607\n",
      "Epoch 99/100\n",
      "17/17 [==============================] - 0s 12ms/step - loss: 3.9141e-08 - accuracy: 1.0000 - val_loss: 0.3306 - val_accuracy: 0.9607\n",
      "Epoch 100/100\n",
      "17/17 [==============================] - 0s 12ms/step - loss: 2.5077e-08 - accuracy: 1.0000 - val_loss: 0.3306 - val_accuracy: 0.9607\n",
      "hobbit picture  four years away  lord of the rings director peter jackson has said that it will be up to four years before he starts work on a film version of the hobbit.  the oscar winner said on a visit to sydney there was a  desire  to make it  but not before lengthy negotiations.  i think it s gonna be a lot of lawyers sitting in a room trying to thrash out a deal before it will ever happen   said the new zealander. the rights to jrr tolkien s book are split between two major film studios. jackson  who is currently filming a remake of hollywood classic king kong  said he thought that the sale of mgm studios to the sony corporation would cast further uncertainty on the project. the 43-year-old was in the australian city to visit a lord of the rings exhibition  which has attracted 140 000 visitors since it opened in december.  the film-maker recently sued film company new line cinema for undisclosed damages over alleged withheld profits and lost revenue from the first part of the middle earth trilogy. the fellowship of the ring from 2001 went on to make worldwide profits of $291 million (£152 million). jackson is thought to have secured the most lucrative film directing deal in history to remake king kong  which is currently in production in wellington. the picture  which stars naomi watts and oscar winner adrien brody  is due to be released in december. jackson has also committed to making a film version of lovely bones  based on the best-selling book by alice sebold.\n",
      "Actual label:entertainment\n",
      "Predicted label: entertainment\n",
      "game firm holds  cast  auditions video game firm bioware is to hold open auditions for people to become cast members for future games.  the company  which makes role playing games such as knights of the old republic and neverwinter nights  is seeking people aged 18 to 99. the canada-based company says it was looking for  a wide variety of people to use as face models for characters . everyone chosen to appear in a video game will receive a performer s fee for the use of their image. the company is inviting people to come along to a shopping mall in west edmonton  alberta  on friday and saturday  bringing along a piece of photo identification.   there are hundreds and hundreds of characters in a typical bioware game   said shauna perry  bioware s audio and external resources producer.  those people live in any city and village and so we need ordinary people  people with interesting faces.  she added:  not everyone is a model in the world so we don t want just models in our games.  people chosen to appear in a game will have their head scanned in three dimensions. hundreds of photos of the person s head are taken so that a model of the head can be generated in 3d.  the 3d model will look exactly like the person - it s really quite incredible how detailed they are   said ms perry. she said chosen participants will have no control over how the image is used in a computer game.  we cannot give people any control over how the images are used.  but their face could be used in multiple games - so they could be the hero in one  the villain in another and just a merchant in a third.\n",
      "Actual label:tech\n",
      "Predicted label: tech\n",
      "clarke plans migrant point scheme anyone planning to move to the uk will have to pass a test to prove they can contribute to the country  home secretary charles clarke has said.  he is proposing a points system similar to australia s but would avoid the quota system planned by the tories. mr clarke  who will unveil his plans on monday  said economic migration helped the uk but  needed proper policing . the lib dems say they will look at his plans  but tory liam fox said his party offered a  clear choice  on the issue. the conservative party co-chairman said the british electorate had a choice between a labour government that had  done nothing for eight years and will not set a limit  on immigration and a tory one that would impose quotas.  the home secretary said  by 2008  he wanted everyone given a visa and entering the uk to have their fingerprints taken  to  ensure we can know everybody who is in the country . speaking on bbc one s breakfast with frost  he said  economic migrants are of great value to this country   but stressed that proper policing was needed to ensure that they do not become a  burden on society . he said:  we will establish a system ... which looks at the skills  talents and abilities of people seeking to come and work in this country  and ensures that when they come here they have a job and can contribute to the economy of the country.   the home secretary  whose five-year blueprint for immigration and asylum is expected to be published on monday  also rejected claims that the immigration debate encouraged bigotry.  the issue of who does come into this country  and whether they are entitled to be in this country  who does settle here  how we have border controls  is a perfectly legitimate aspect of public debate   he said. liberal democrat home affairs spokesman mark oaten said:  whilst it is good that labour has rejected the tory idea of quotas on asylum  the jury is still out on the home office s ability to deliver a fair and efficient asylum system.   mr howard has said britain should take its fair share of the world s  genuine refugees . but he claims the current asylum system is being abused - and with it britain s generosity. trevor phillips  chairman of the commission for racial equality  called on mr clarke to denounce the suggestion britain s hospitality was being tested by immigration.  tell that to the 44 000 doctors in the nhs and the 70 000 nurses without whom we would really see what pressure on the health service means   he said.  ditto the teachers  from south africa  australia  jamaica  who are reducing the sizes of our classes and schools.  the refugee council said mr howard s proposals would mean there would be no safe haven in the uk.\n",
      "Actual label:politics\n",
      "Predicted label: politics\n",
      "radcliffe will compete in london paula radcliffe will compete in the flora london marathon this year after deciding her schedule for 2005.  the 31-year-old won the race in 2002 on her marathon debut  defended her title 12 months later and will now seek a third title in the 17 april race.  it doesn t get any better than this for the 25th anniversary   said race director david bedford.  after announcing the greatest men s field ever we now have the greatest women s distance runner ever.  three years ago radcliffe smashed the women s world record in two hours 18 minutes 15 seconds.  the bedford star returned to london 12 months later  lowering her mixed-race world record of 2:17:18  which she set in chicago in october 2003  by one minute 53 secs. radcliffe s career took a setback when she failed to complete the olympic marathon and later dropped out of the athens 10 000m last august. but the 31-year-old bounced back to win the new york marathon in november. radcliffe  however  passed up the chance to go for the  big city  marathon grand slam. with wins in chicago  london and new york  only the boston marathon remains to be conquered but that takes place a day after london.  boston is definitely a race i want to do at some point  but london is very special to me   said radcliffe.  i don t pick races thinking about things like pressure. i pick the ones in my heart i really want to do.  i love the atmosphere  crowds and course and know it will always be a great quality race.  it is also the 25th anniversary this year which adds to the occasion.\n",
      "Actual label:sport\n",
      "Predicted label: sport\n",
      "serena becomes world number two serena williams has moved up five places to second in the world rankings after her australian open win.  williams won her first grand slam title since 2003 with victory over lindsay davenport  the world number one. men s champion marat safin remains fourth in the atp rankings while beaten finalist lleyton hewitt replaces andy roddick as world number two. roger federer retains top spot  but safin has overtaken hewitt to become the new leader of the champions race. alicia molik  who lost a three-set thriller against davenport in the quarter-finals  is in the women s top 10 for the first time in her career. her rise means australia have a player in the top 10 of the men s and women s rankings for the first time in 21 years. and britain s elena baltacha  who qualified and then reached the third round  has risen to 120 in the world - a leap of 65 places and her highest ranking yet.\n",
      "Actual label:sport\n",
      "Predicted label: sport\n",
      "ultimate game  award for doom 3 sci-fi shooter doom 3 has blasted away the competition at a major games ceremony  the golden joystick awards.  it was the only title to win twice  winning ultimate game of the year and best pc game at the awards  presented by little britain star matt lucas. the much-anticipated sci-fi horror doom 3 shot straight to the top of the uk games charts on its release in august. other winners included grand theft auto: san andreas which took the most wanted for christmas prize. only released last week  it was closely followed by halo 2 and half-life 2  which are expected to be big hits when they are unleashed later this month.  but they missed out on the prize for the most wanted game of 2005  which went to the nintendo title  the legend of zelda. the original doom  released in 1994  heralded a new era in computer games and introduced 3d graphics. it helped to establish the concept of the first-person shooter. doom 3 was developed over four years and is thought to have cost around $15m (£8.3m). the top honour for the best online game of the year went to battlefield vietnam. the chronicles of riddick: escape from butcher bay was handed the unsung hero game of 2004. its release was somewhat eclipsed by doom 3  which was released on the same week. it was  however  very well received by gamers and was praised for its storyline which differed from the film released around the same time. electronic arts was named top publisher of the year  taking the crown from nintendo which won in 2003. the annual awards are voted for by more than 200 000 readers of computer and video games magazines. games awards like this have grown in importance. over the last six years  the uk market for games grew by 100% and was worth a record £1 152m in 2003  according to a recent report by analysts screen digest.\n",
      "Actual label:tech\n",
      "Predicted label: tech\n",
      "algeria hit by further gas riots algeria suffered a weekend of violent protests against government plans to raise gas prices  local press reports.  demonstrators in a number of regions blocked roads  attacked public buildings and overturned vehicles  newspapers including el watan reported. the price of butane gas  a vital fuel for cooking  has risen to 200 dinars ($2.77) per canister from 170 dinars. even before the hike  failing economic conditions had been fanning resentment in some of algeria s poorest regions.  demonstrators took to the streets last week when the cost change was first announced  but police seemed to have restored order. according to local press reports  trouble flared up again on saturday and carried on into sunday. el watan said that a number of hot spots centred on the villages and towns close to bouira  about 100 kilometres (60 miles) south of the capital algiers. among the other main areas affected were the western tiaret region and sidi ammar in the east of the country  agence france presse (afp) reported. riots also flared up in the maghnia region close to the border with morocco in the west  afp said. butane gas and fuel oil are used as the main source of fuel to heat homes and cook food in algeria s remote mountain areas.\n",
      "Actual label:business\n",
      "Predicted label: business\n",
      "fast lifts rise into record books two high-speed lifts at the world s tallest building have been officially recognised as the planet s fastest.  the lifts take only 30 seconds to whisk passengers to the top of the 508m tall tfc 101 tower in taipei  taiwan. the guinness book of records has declared the 17m per second speed of the two lifts the swiftest on earth. the lifts also have a pressure control system to stop passengers  ears popping as they ascend and descend at high speed.  in total  the tfc tower has 61 lifts  34 of them double-deckers  and 50 escalators to shuttle people around its 106 floors. the tfc 101 tower is due to be officially opened on 31 december.  the super-fast lifts can speed up to 24 passengers to the tip of the tower in about 30 seconds  while ascending their 382m track. the 17m/s top speed of the lifts translates to about 38mph (61km/h). curiously the lifts take longer to descend and spend almost a whole minute returning to ground level from the top of the tfc tower. the key new technologies applied in the world s fastest elevators include:    - a pressure control system  which adjusts the atmospheric pressure inside a car by using suction and discharge blowers  preventing  ear popping    - an active control system which tries to balance the lift more finely and remove the sources of vibrations   - streamlined cars to reduce the whistling noise produced by running the lifts at a high speed inside a narrow shaft      the certification of our elevators as world record-holders by the authoritative guinness world records is a great honour for us   said masayuki shimono  president of manufacturer toshiba elevator and building systems which installed the lifts. the first record for the world s fastest passenger elevators was published in the first edition of the guinness book of records in 1955.  as such  it is an interesting indicator of how technology has advanced in the 50 years since that first edition  when the record was 426m per minute  or 25.6 km/h  less than half the speed of the new record   said hein le roux  specialist researcher at the guinness world records. taipei s tfc 101 tower is more than 50m taller than the petronas towers in kuala lumpur  malaysia - formerly the world s tallest skyscraper.\n",
      "Actual label:tech\n",
      "Predicted label: tech\n",
      "muslim group attacks tv drama 24 a british muslim group has criticised the new series of us drama 24  which is about to be aired on sky one  claiming it portrays islam unfairly.  the muslim council of britain has complained to broadcasting watchdog ofcom. it says the programme breaches editorial guidelines. the group s members met with sky executives on tuesday after viewing previews of the first five episodes. the drama  now in its fourth series  begins on sunday evening. the new series portrays a muslim family as a sleeper terrorist cell. the muslim council of britain said in a statement:  we are greatly concerned by the unremittingly hostile and unbalanced portrayal of muslims in this series of 24 based upon a preview of the first five episodes that we have seen.   there is not a single positive muslim character in the storyline to date. at a time when negative stereotypes of muslims are on the increase we feel that sky - as a major uk broadcaster - has a responsibility to challenge these insidious views  not help to reinforce them.  but sky denied the programme breached broadcasting guidelines. a spokesperson said:  during a useful meeting yesterday  sky listened to the concerns raised by representatives of the council. sky does not believe that the episodes that it has reviewed to date breach ofcom s programme code.  fox tv  which shows the series in the us  is broadcasting public service announcements showing muslims in a positive light after complaints about the series.\n",
      "Actual label:entertainment\n",
      "Predicted label: entertainment\n",
      "us tv special for tsunami relief a us television network will screen a celebrity tv special to benefit the tsunami relief effort in south asia.  nbc will encourage viewer donations during an hour-long show featuring musical performances on 15 january. actress sandra bullock has donated $1m (£525 000) to the american red cross and actor leonardo dicaprio pledged a  sizable  aid contribution to unicef. meanwhile 70 hong kong music and movie stars re-recorded we are the world in mandarin and cantonese to raise funds.  the song will not be released as a single  but will be played regularly during a chinese telethon on friday in aid of victims of the boxing day disaster. around 140 000 people were killed and five million left homeless or without food and water after an earthquake below the indian ocean sent waves crashing into coastal communities in 11 countries.  the united nations warned that the number killed in the disaster could rise sharply  with aid yet to reach some remote areas. performers have yet to be confirmed for nbc s aid relief benefit later this month. it follows a two-hour telethon carried by all four major us television networks 10 days after the 11 september terror attacks in 2001. america: a tribute to heroes raised more than $150m (£79m) to help victims of the suicide attacks on the world trade center and pentagon.\n",
      "Actual label:entertainment\n",
      "Predicted label: business\n"
     ]
    }
   ],
   "source": [
    "# score = model.evaluate(x_test, y_test,batch_size=16, verbose=1,epochs = 5)\n",
    "\n",
    "score = model.fit(x_train, y_train,\n",
    "                    batch_size=batch_size,\n",
    "                    epochs=100,\n",
    "                    verbose=1,\n",
    "                    validation_split=0.1)\n",
    "\n",
    "#print('Test accuracy:', score[0])\n",
    "\n",
    "text_labels = encoder.classes_\n",
    "\n",
    "for i in range(10):\n",
    "    prediction = model.predict(np.array([x_test[i]]))\n",
    "    predicted_label = text_labels[np.argmax(prediction[0])]\n",
    "    print(test_posts.iloc[i])\n",
    "    print('Actual label:' + test_tags.iloc[i])\n",
    "    print(\"Predicted label: \" + predicted_label)\n",
    "\n",
    "model.save('my_model.h5')"
   ]
  },
  {
   "cell_type": "code",
   "execution_count": null,
   "metadata": {
    "id": "iEFE3CL1Jg3K"
   },
   "outputs": [],
   "source": [
    "# creates a HDF5 file 'my_model.h5'\n",
    "model.save('my_model.h5')\n",
    " \n",
    "# Save Tokenizer i.e. Vocabulary\n",
    "with open('tokenizer.pickle', 'wb') as handle:\n",
    "    pickle.dump(tokenizer, handle, protocol=pickle.HIGHEST_PROTOCOL)"
   ]
  },
  {
   "cell_type": "code",
   "execution_count": null,
   "metadata": {
    "colab": {
     "base_uri": "https://localhost:8080/"
    },
    "executionInfo": {
     "elapsed": 1469,
     "status": "ok",
     "timestamp": 1606145278937,
     "user": {
      "displayName": "John Parker",
      "photoUrl": "https://lh3.googleusercontent.com/a-/AOh14GgsjfMjH37KExobD0yKVEUYp5zLmgGCorKmcp753Q=s64",
      "userId": "16779664998312972023"
     },
     "user_tz": -345
    },
    "id": "b0ICkdlIJg3a",
    "outputId": "fe56c724-7ec0-4445-d83b-fb6a90daa31e"
   },
   "outputs": [
    {
     "data": {
      "text/plain": [
       "array(['business', 'entertainment', 'politics', 'sport', 'tech'],\n",
       "      dtype='<U13')"
      ]
     },
     "execution_count": 30,
     "metadata": {
      "tags": []
     },
     "output_type": "execute_result"
    }
   ],
   "source": [
    "# load our saved model\n",
    "from keras.models import load_model\n",
    "model = load_model('my_model.h5')\n",
    " \n",
    "# load tokenizer\n",
    "tokenizer = Tokenizer()\n",
    "with open('tokenizer.pickle', 'rb') as handle:\n",
    "    tokenizer = pickle.load(handle)\n",
    "    \n",
    "    \n",
    "encoder.classes_ #LabelBinarizer"
   ]
  },
  {
   "cell_type": "code",
   "execution_count": null,
   "metadata": {
    "colab": {
     "base_uri": "https://localhost:8080/"
    },
    "executionInfo": {
     "elapsed": 1329,
     "status": "ok",
     "timestamp": 1606145281085,
     "user": {
      "displayName": "John Parker",
      "photoUrl": "https://lh3.googleusercontent.com/a-/AOh14GgsjfMjH37KExobD0yKVEUYp5zLmgGCorKmcp753Q=s64",
      "userId": "16779664998312972023"
     },
     "user_tz": -345
    },
    "id": "ztFgWFEwJg3r",
    "outputId": "a82eb7e1-a685-4ba1-e017-d27c7b5c7008"
   },
   "outputs": [
    {
     "name": "stdout",
     "output_type": "stream",
     "text": [
      "File -> /content/drive/MyDrive/Classroom/news2.txt Predicted label: business\n",
      "[[9.9861097e-01 1.3872154e-06 3.0495527e-05 9.0852218e-06 1.3480347e-03]]\n"
     ]
    }
   ],
   "source": [
    "# These are the labels we stored from our training\n",
    "# The order is very important here.\n",
    " \n",
    "labels = np.array(['business', 'entertainment', 'politics', 'sport', 'tech'])\n",
    " \n",
    "test_files = [\"/content/drive/MyDrive/Classroom/news2.txt\"]\n",
    "x_data = []\n",
    "for t_f in test_files:\n",
    "    t_f_data = Path(t_f).read_text()\n",
    "    x_data.append(t_f_data)\n",
    " \n",
    "x_data_series = pd.Series(x_data)\n",
    "x_tokenized = tokenizer.texts_to_matrix(x_data_series, mode='tfidf')\n",
    " \n",
    "i=0\n",
    "for x_t in x_tokenized:\n",
    "    prediction = model.predict(np.array([x_t]))\n",
    "    predicted_label = labels[np.argmax(prediction[0])]\n",
    "    print(\"File ->\", test_files[i], \"Predicted label: \" + predicted_label)\n",
    "    print(prediction)"
   ]
  },
  {
   "cell_type": "code",
   "execution_count": null,
   "metadata": {
    "colab": {
     "base_uri": "https://localhost:8080/",
     "height": 74
    },
    "executionInfo": {
     "elapsed": 1160,
     "status": "ok",
     "timestamp": 1591274952360,
     "user": {
      "displayName": "Aayush Adhikari",
      "photoUrl": "",
      "userId": "12783126936209039067"
     },
     "user_tz": -345
    },
    "id": "bjBIhhO9Jg39",
    "outputId": "0638792b-dd1b-4601-85b7-f64cbc31ef5d"
   },
   "outputs": [],
   "source": []
  },
  {
   "cell_type": "code",
   "execution_count": null,
   "metadata": {
    "colab": {
     "base_uri": "https://localhost:8080/",
     "height": 830
    },
    "executionInfo": {
     "elapsed": 1236,
     "status": "error",
     "timestamp": 1591286967963,
     "user": {
      "displayName": "Aayush Adhikari",
      "photoUrl": "",
      "userId": "12783126936209039067"
     },
     "user_tz": -345
    },
    "id": "SNHPfBVrJg4R",
    "outputId": "fb8406d4-e76e-4c0f-9def-4ae4d7fce31d"
   },
   "outputs": [],
   "source": []
  },
  {
   "cell_type": "code",
   "execution_count": null,
   "metadata": {
    "colab": {
     "base_uri": "https://localhost:8080/",
     "height": 998
    },
    "executionInfo": {
     "elapsed": 1899,
     "status": "error",
     "timestamp": 1591290112388,
     "user": {
      "displayName": "Aayush Adhikari",
      "photoUrl": "",
      "userId": "12783126936209039067"
     },
     "user_tz": -345
    },
    "id": "IaF1EP06UqYv",
    "outputId": "7951aaad-4413-4096-a1ce-c1ecce5fd1dd"
   },
   "outputs": [],
   "source": []
  },
  {
   "cell_type": "code",
   "execution_count": null,
   "metadata": {
    "colab": {
     "base_uri": "https://localhost:8080/",
     "height": 36
    },
    "executionInfo": {
     "elapsed": 977,
     "status": "ok",
     "timestamp": 1591281733790,
     "user": {
      "displayName": "Aayush Adhikari",
      "photoUrl": "",
      "userId": "12783126936209039067"
     },
     "user_tz": -345
    },
    "id": "GCf5LOu5USvx",
    "outputId": "b76f9015-3030-4f17-b4fa-c858201cd975"
   },
   "outputs": [],
   "source": []
  },
  {
   "cell_type": "code",
   "execution_count": null,
   "metadata": {
    "colab": {
     "base_uri": "https://localhost:8080/",
     "height": 36
    },
    "executionInfo": {
     "elapsed": 2214,
     "status": "ok",
     "timestamp": 1591286145331,
     "user": {
      "displayName": "Aayush Adhikari",
      "photoUrl": "",
      "userId": "12783126936209039067"
     },
     "user_tz": -345
    },
    "id": "-lJiy6dSgKiM",
    "outputId": "ad1d71e8-29ab-49c8-85ec-7d9a4af60640"
   },
   "outputs": [
    {
     "name": "stdout",
     "output_type": "stream",
     "text": [
      "5\n"
     ]
    }
   ],
   "source": []
  },
  {
   "cell_type": "code",
   "execution_count": null,
   "metadata": {
    "colab": {
     "base_uri": "https://localhost:8080/",
     "height": 136
    },
    "executionInfo": {
     "elapsed": 2046,
     "status": "error",
     "timestamp": 1591794067551,
     "user": {
      "displayName": "Aayush Adhikari",
      "photoUrl": "",
      "userId": "12783126936209039067"
     },
     "user_tz": -345
    },
    "id": "z2TZ4HXVhNZ8",
    "outputId": "40306a22-a3e7-4af3-98f1-599b19595344"
   },
   "outputs": [],
   "source": []
  },
  {
   "cell_type": "code",
   "execution_count": null,
   "metadata": {
    "colab": {
     "base_uri": "https://localhost:8080/",
     "height": 542
    },
    "executionInfo": {
     "elapsed": 3358,
     "status": "ok",
     "timestamp": 1591793860759,
     "user": {
      "displayName": "Aayush Adhikari",
      "photoUrl": "",
      "userId": "12783126936209039067"
     },
     "user_tz": -345
    },
    "id": "fqVJD5Vp4Iwk",
    "outputId": "3492959a-bc01-49cf-dc90-74e611a0e466"
   },
   "outputs": [],
   "source": []
  },
  {
   "cell_type": "code",
   "execution_count": null,
   "metadata": {
    "id": "Do9A9VBPTrDY"
   },
   "outputs": [],
   "source": []
  }
 ],
 "metadata": {
  "accelerator": "GPU",
  "colab": {
   "collapsed_sections": [],
   "name": "text_classifications.ipynb",
   "provenance": []
  },
  "kernelspec": {
   "display_name": "Python 3 (ipykernel)",
   "language": "python",
   "name": "python3"
  },
  "language_info": {
   "codemirror_mode": {
    "name": "ipython",
    "version": 3
   },
   "file_extension": ".py",
   "mimetype": "text/x-python",
   "name": "python",
   "nbconvert_exporter": "python",
   "pygments_lexer": "ipython3",
   "version": "3.7.1"
  }
 },
 "nbformat": 4,
 "nbformat_minor": 1
}
